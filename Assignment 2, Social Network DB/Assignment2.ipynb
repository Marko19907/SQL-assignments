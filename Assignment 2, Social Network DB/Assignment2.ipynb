{
 "cells": [
  {
   "cell_type": "markdown",
   "metadata": {},
   "source": [
    "Load the database Social-Network."
   ]
  },
  {
   "cell_type": "code",
   "execution_count": 1,
   "metadata": {},
   "outputs": [
    {
     "data": {
      "text/plain": [
       "'Connected: @Social-Network.db'"
      ]
     },
     "execution_count": 1,
     "metadata": {},
     "output_type": "execute_result"
    }
   ],
   "source": [
    "%load_ext sql\n",
    "%sql sqlite:///Social-Network.db"
   ]
  },
  {
   "cell_type": "markdown",
   "metadata": {},
   "source": [
    "**Assignment II Description**\n",
    "\n",
    "Students at your hometown high school have decided to organize their social network using databases. So far, they have\n",
    "collected information about sixteen students in four grades, 9-12. Here's the schema:\n",
    "\n",
    "Highschooler ( ID, name, grade )\n",
    "English: There is a high school student with unique _ID_ and a given _first name_ in a certain _grade_.\n",
    "\n",
    "Friend ( ID1, ID2 )\n",
    "English: The student with _ID1_ is friends with the student with _ID2_. Friendship is mutual, so if (123, 456) is in the Friend table, so is (456, 123).\n",
    "\n",
    "Likes ( ID1, ID2 )\n",
    "English: The student with _ID1_ likes the student with _ID2_. Liking someone is not necessarily mutual, so if (123, 456) is in the Likes table, there is no guarantee that (456, 123) is also present.\n",
    "\n",
    "Your queries will run over a small data set conforming to the schema. You can view the database in the pdf file.\n",
    "\n",
    "For your convenience, here is a graph showing the various connections between the students in our database. 9th graders\n",
    "are blue, 10th graders are green, 11th graders are yellow, and 12th graders are purple. Undirected black edges indicate\n",
    "friendships, and directed red edges indicate that one student likes another student.\n",
    "\n",
    "![title](image.png)\n",
    "\n",
    "**Instructions**\n",
    "\n",
    "Each problem asks you to write a query in SQL. You can run your code by clicking Run button on the top of the page.\n",
    "\n",
    "**Important Notes**\n",
    "\n",
    "1- Your queries are executed using SQLite, so you must conform to the SQL constructs supported by SQLite.\n",
    "\n",
    "2- Unless a specific result ordering is asked for, you can return the result rows in any order.\n",
    "\n",
    "3- You are to translate the English into a SQL query that computes the desired result over all possible databases. I will give you the correct output two weeks later as a reference. However, just to check the answer is not enough. This means for our small sample database, even if your answer is correct, it is possible that your query does not correctly reflect the problem at hand. (For example, if we ask for a complex condition that requires accessing all of the tables, but over our small data set in the end the condition is satisfied only by Star Wars, then the query \"select title from Movie where title = 'Star Wars'\" will get correct answer even though it doesn't reflect the actual question.) Circumventing the system in this fashion is not a good idea to help you learn SQL. On the other hand, an incorrect attempt at a general solution is unlikely to produce the right answer, so you shouldn't be led astray by just checking the answer.\n",
    "\n",
    "**Assignment Questions**\n",
    "\n",
    "This assignment includes three exercises **[Social-Network Query Exercises], [SQL Social-Network Query Exercises Extras]** and **[Social-Network Modification Exercises]**. Finish all questions listed below and test if your answers are correct with reference output. Then fill your answers in this template.\n",
    "\n",
    "**What to hand in:**\n",
    "1. Generate a HTML report from this notebook template with answers (File > Download as > HTML).\n",
    "2. This \"Assignment_2.ipynb\" file with answers."
   ]
  },
  {
   "cell_type": "markdown",
   "metadata": {},
   "source": [
    "Social-Network Query Exercises, Q1:\n",
    "\n",
    "Find the names of all students who are friends with someone named Gabriel."
   ]
  },
  {
   "cell_type": "code",
   "execution_count": 2,
   "metadata": {},
   "outputs": [
    {
     "name": "stdout",
     "output_type": "stream",
     "text": [
      " * sqlite:///Social-Network.db\n",
      "Done.\n"
     ]
    },
    {
     "data": {
      "text/html": [
       "<table>\n",
       "    <thead>\n",
       "        <tr>\n",
       "            <th>name</th>\n",
       "        </tr>\n",
       "    </thead>\n",
       "    <tbody>\n",
       "        <tr>\n",
       "            <td>Cassandra</td>\n",
       "        </tr>\n",
       "        <tr>\n",
       "            <td>Andrew</td>\n",
       "        </tr>\n",
       "        <tr>\n",
       "            <td>Jessica</td>\n",
       "        </tr>\n",
       "        <tr>\n",
       "            <td>Jordan</td>\n",
       "        </tr>\n",
       "        <tr>\n",
       "            <td>Alexis</td>\n",
       "        </tr>\n",
       "    </tbody>\n",
       "</table>"
      ],
      "text/plain": [
       "[('Cassandra',), ('Andrew',), ('Jessica',), ('Jordan',), ('Alexis',)]"
      ]
     },
     "execution_count": 2,
     "metadata": {},
     "output_type": "execute_result"
    }
   ],
   "source": [
    "%%sql\n",
    "SELECT Highschooler.name\n",
    "FROM Highschooler, Friend\n",
    "WHERE Highschooler.ID = Friend.ID2 \n",
    "    AND Friend.ID1 IN (\n",
    "        SELECT Highschooler.ID \n",
    "        FROM Highschooler\n",
    "        WHERE Highschooler.name = \"Gabriel\"\n",
    "    )\n",
    ";"
   ]
  },
  {
   "cell_type": "markdown",
   "metadata": {},
   "source": [
    "Social-Network Query Exercises, Q2:\n",
    "\n",
    "For every student who likes someone 2 or more grades younger than themselves, return that student's name and grade, and\n",
    "the name and grade of the student they like."
   ]
  },
  {
   "cell_type": "code",
   "execution_count": 3,
   "metadata": {},
   "outputs": [
    {
     "name": "stdout",
     "output_type": "stream",
     "text": [
      " * sqlite:///Social-Network.db\n",
      "Done.\n"
     ]
    },
    {
     "data": {
      "text/html": [
       "<table>\n",
       "    <thead>\n",
       "        <tr>\n",
       "            <th>name</th>\n",
       "            <th>grade</th>\n",
       "            <th>name_1</th>\n",
       "            <th>grade_1</th>\n",
       "        </tr>\n",
       "    </thead>\n",
       "    <tbody>\n",
       "        <tr>\n",
       "            <td>John</td>\n",
       "            <td>12</td>\n",
       "            <td>Haley</td>\n",
       "            <td>10</td>\n",
       "        </tr>\n",
       "    </tbody>\n",
       "</table>"
      ],
      "text/plain": [
       "[('John', 12, 'Haley', 10)]"
      ]
     },
     "execution_count": 3,
     "metadata": {},
     "output_type": "execute_result"
    }
   ],
   "source": [
    "%%sql\n",
    "WITH\n",
    "gradeIDMap1 AS (SELECT Highschooler.ID AS ID, Highschooler.name AS name, Highschooler.grade AS grade\n",
    "FROM Highschooler, Likes\n",
    "WHERE Highschooler.ID = Likes.ID1),\n",
    "\n",
    "gradeIDMap2 AS (SELECT Highschooler.ID AS ID, Highschooler.name AS name, Highschooler.grade AS grade\n",
    "FROM Highschooler, Likes\n",
    "WHERE Highschooler.ID = Likes.ID2)\n",
    "\n",
    "SELECT gradeIDMap1.name, gradeIDMap1.grade, gradeIDMap2.name, gradeIDMap2.grade\n",
    "FROM gradeIDMap1, gradeIDMap2, Likes\n",
    "WHERE gradeIDMap1.ID = Likes.ID1\n",
    "    AND gradeIDMap2.ID = Likes.ID2\n",
    "    AND ABS(gradeIDMap2.grade - gradeIDMap1.grade) >= 2;"
   ]
  },
  {
   "cell_type": "markdown",
   "metadata": {},
   "source": [
    "Social-Network Query Exercises, Q3:\n",
    "\n",
    "For every pair of students who both like each other, return the name and grade of both students. Include each pair only once,\n",
    "with the two names in alphabetical order."
   ]
  },
  {
   "cell_type": "code",
   "execution_count": 4,
   "metadata": {},
   "outputs": [
    {
     "name": "stdout",
     "output_type": "stream",
     "text": [
      " * sqlite:///Social-Network.db\n",
      "Done.\n"
     ]
    },
    {
     "data": {
      "text/html": [
       "<table>\n",
       "    <thead>\n",
       "        <tr>\n",
       "            <th>name</th>\n",
       "            <th>grade</th>\n",
       "            <th>name1</th>\n",
       "            <th>grade1</th>\n",
       "        </tr>\n",
       "    </thead>\n",
       "    <tbody>\n",
       "        <tr>\n",
       "            <td>Cassandra</td>\n",
       "            <td>9</td>\n",
       "            <td>Gabriel</td>\n",
       "            <td>9</td>\n",
       "        </tr>\n",
       "        <tr>\n",
       "            <td>Jessica</td>\n",
       "            <td>11</td>\n",
       "            <td>Kyle</td>\n",
       "            <td>12</td>\n",
       "        </tr>\n",
       "    </tbody>\n",
       "</table>"
      ],
      "text/plain": [
       "[('Cassandra', 9, 'Gabriel', 9), ('Jessica', 11, 'Kyle', 12)]"
      ]
     },
     "execution_count": 4,
     "metadata": {},
     "output_type": "execute_result"
    }
   ],
   "source": [
    "%%sql\n",
    "WITH\n",
    "likes1 AS (\n",
    "SELECT Highschooler.ID AS ID, Highschooler.name AS name, Highschooler.grade AS grade, Likes.ID2 AS likes1\n",
    "FROM Highschooler, Likes\n",
    "WHERE Highschooler.ID = Likes.ID1\n",
    "),\n",
    "likes2 AS (\n",
    "SELECT Highschooler.ID AS ID, Highschooler.name AS name, Highschooler.grade AS grade, Likes.ID1 AS likes1\n",
    "FROM Highschooler, Likes\n",
    "WHERE Highschooler.ID = Likes.ID2\n",
    ")\n",
    "\n",
    "SELECT likes1.name, likes1.grade, likes2.name AS name1, likes2.grade AS grade1\n",
    "FROM likes1, likes2, Likes\n",
    "WHERE likes1.ID = Likes.ID2\n",
    "    AND likes2.ID = Likes.ID1\n",
    "    AND likes1.name < likes2.name\n",
    "GROUP BY likes1.name, name1\n",
    "ORDER BY likes1.name, likes2.name;"
   ]
  },
  {
   "cell_type": "markdown",
   "metadata": {},
   "source": [
    "Social-Network Query Exercises, Q4:\n",
    "\n",
    "Find all students who do not appear in the Likes table (as a student who likes or is liked) and return their names and grades.\n",
    "Sort by grade, then by name within each grade."
   ]
  },
  {
   "cell_type": "code",
   "execution_count": 5,
   "metadata": {},
   "outputs": [
    {
     "name": "stdout",
     "output_type": "stream",
     "text": [
      " * sqlite:///Social-Network.db\n",
      "Done.\n"
     ]
    },
    {
     "data": {
      "text/html": [
       "<table>\n",
       "    <thead>\n",
       "        <tr>\n",
       "            <th>name</th>\n",
       "            <th>grade</th>\n",
       "        </tr>\n",
       "    </thead>\n",
       "    <tbody>\n",
       "        <tr>\n",
       "            <td>Jordan</td>\n",
       "            <td>9</td>\n",
       "        </tr>\n",
       "        <tr>\n",
       "            <td>Tiffany</td>\n",
       "            <td>9</td>\n",
       "        </tr>\n",
       "        <tr>\n",
       "            <td>Logan</td>\n",
       "            <td>12</td>\n",
       "        </tr>\n",
       "    </tbody>\n",
       "</table>"
      ],
      "text/plain": [
       "[('Jordan', 9), ('Tiffany', 9), ('Logan', 12)]"
      ]
     },
     "execution_count": 5,
     "metadata": {},
     "output_type": "execute_result"
    }
   ],
   "source": [
    "%%sql\n",
    "SELECT Highschooler.name, Highschooler.grade\n",
    "FROM Highschooler, Likes\n",
    "WHERE Highschooler.ID NOT IN (\n",
    "    SELECT Highschooler.ID\n",
    "    FROM Highschooler, Likes\n",
    "    WHERE Highschooler.ID = Likes.ID1\n",
    "        OR Highschooler.ID = Likes.ID2\n",
    ")\n",
    "GROUP BY name, grade\n",
    "ORDER BY grade, name;"
   ]
  },
  {
   "cell_type": "markdown",
   "metadata": {},
   "source": [
    "Social-Network Query Exercises, Q5:\n",
    "\n",
    "For every situation where student A likes student B, but we have no information about whom B likes (that is, B does not\n",
    "appear as an ID1 in the Likes table), return A and B's names and grades."
   ]
  },
  {
   "cell_type": "code",
   "execution_count": 6,
   "metadata": {
    "scrolled": true
   },
   "outputs": [
    {
     "name": "stdout",
     "output_type": "stream",
     "text": [
      " * sqlite:///Social-Network.db\n",
      "Done.\n"
     ]
    },
    {
     "data": {
      "text/html": [
       "<table>\n",
       "    <thead>\n",
       "        <tr>\n",
       "            <th>name</th>\n",
       "            <th>grade</th>\n",
       "            <th>name1</th>\n",
       "            <th>grade1</th>\n",
       "        </tr>\n",
       "    </thead>\n",
       "    <tbody>\n",
       "        <tr>\n",
       "            <td>Alexis</td>\n",
       "            <td>11</td>\n",
       "            <td>Kris</td>\n",
       "            <td>10</td>\n",
       "        </tr>\n",
       "        <tr>\n",
       "            <td>Austin</td>\n",
       "            <td>11</td>\n",
       "            <td>Jordan</td>\n",
       "            <td>12</td>\n",
       "        </tr>\n",
       "        <tr>\n",
       "            <td>Brittany</td>\n",
       "            <td>10</td>\n",
       "            <td>Kris</td>\n",
       "            <td>10</td>\n",
       "        </tr>\n",
       "        <tr>\n",
       "            <td>John</td>\n",
       "            <td>12</td>\n",
       "            <td>Haley</td>\n",
       "            <td>10</td>\n",
       "        </tr>\n",
       "    </tbody>\n",
       "</table>"
      ],
      "text/plain": [
       "[('Alexis', 11, 'Kris', 10),\n",
       " ('Austin', 11, 'Jordan', 12),\n",
       " ('Brittany', 10, 'Kris', 10),\n",
       " ('John', 12, 'Haley', 10)]"
      ]
     },
     "execution_count": 6,
     "metadata": {},
     "output_type": "execute_result"
    }
   ],
   "source": [
    "%%sql\n",
    "WITH\n",
    "studentA AS (\n",
    "SELECT Likes.ID1 AS ID, Highschooler.name AS name, Highschooler.grade AS grade\n",
    "FROM Likes, Highschooler\n",
    "WHERE Likes.ID1 = Highschooler.ID\n",
    "),\n",
    "studentB AS (\n",
    "SELECT Likes.ID2 AS ID, Highschooler.name AS name, Highschooler.grade AS grade\n",
    "FROM Likes, Highschooler\n",
    "WHERE Likes.ID2 = Highschooler.ID\n",
    "    AND Likes.ID2 NOT IN (\n",
    "        SELECT Likes.ID1\n",
    "        FROM Likes\n",
    "    )\n",
    ")\n",
    "\n",
    "SELECT studentA.name, studentA.grade, studentB.name AS name1, studentB.grade AS grade1\n",
    "FROM studentA, studentB, Likes\n",
    "WHERE studentB.ID = Likes.ID2\n",
    "    AND studentA.ID = Likes.ID1\n",
    "GROUP BY studentA.name, studentA.grade, studentB.name, studentB.grade;"
   ]
  },
  {
   "cell_type": "markdown",
   "metadata": {},
   "source": [
    "Social-Network Query Exercises, Q6:\n",
    "\n",
    "Find names and grades of students who only have friends in the same grade. Return the result sorted by grade, then by name\n",
    "within each grade."
   ]
  },
  {
   "cell_type": "code",
   "execution_count": 7,
   "metadata": {},
   "outputs": [
    {
     "name": "stdout",
     "output_type": "stream",
     "text": [
      " * sqlite:///Social-Network.db\n",
      "Done.\n"
     ]
    },
    {
     "data": {
      "text/html": [
       "<table>\n",
       "    <thead>\n",
       "        <tr>\n",
       "            <th>name</th>\n",
       "            <th>grade</th>\n",
       "        </tr>\n",
       "    </thead>\n",
       "    <tbody>\n",
       "        <tr>\n",
       "            <td>Jordan</td>\n",
       "            <td>9</td>\n",
       "        </tr>\n",
       "        <tr>\n",
       "            <td>Brittany</td>\n",
       "            <td>10</td>\n",
       "        </tr>\n",
       "        <tr>\n",
       "            <td>Haley</td>\n",
       "            <td>10</td>\n",
       "        </tr>\n",
       "        <tr>\n",
       "            <td>Kris</td>\n",
       "            <td>10</td>\n",
       "        </tr>\n",
       "        <tr>\n",
       "            <td>Gabriel</td>\n",
       "            <td>11</td>\n",
       "        </tr>\n",
       "        <tr>\n",
       "            <td>John</td>\n",
       "            <td>12</td>\n",
       "        </tr>\n",
       "        <tr>\n",
       "            <td>Logan</td>\n",
       "            <td>12</td>\n",
       "        </tr>\n",
       "    </tbody>\n",
       "</table>"
      ],
      "text/plain": [
       "[('Jordan', 9),\n",
       " ('Brittany', 10),\n",
       " ('Haley', 10),\n",
       " ('Kris', 10),\n",
       " ('Gabriel', 11),\n",
       " ('John', 12),\n",
       " ('Logan', 12)]"
      ]
     },
     "execution_count": 7,
     "metadata": {},
     "output_type": "execute_result"
    }
   ],
   "source": [
    "%%sql\n",
    "SELECT Highschooler1.name, Highschooler1.grade\n",
    "FROM Highschooler AS Highschooler1\n",
    "WHERE Highschooler1.ID NOT IN (\n",
    "    -- Find all the friends in a different grade\n",
    "    SELECT Friend.ID1\n",
    "    FROM Highschooler AS Highschooler2, Friend\n",
    "    WHERE Friend.ID1 = Highschooler1.ID\n",
    "        AND Friend.ID2 = Highschooler2.ID\n",
    "        AND Highschooler1.grade != Highschooler2.grade\n",
    ")\n",
    "GROUP BY grade, name\n",
    "ORDER BY grade, name;"
   ]
  },
  {
   "cell_type": "markdown",
   "metadata": {},
   "source": [
    "Social-Network Query Exercises, Q7:\n",
    "\n",
    "For each student A who likes a student B where the two are not friends, find if they have a friend C in common (who can\n",
    "introduce them!). For all such trios, return the name and grade of A, B, and C."
   ]
  },
  {
   "cell_type": "code",
   "execution_count": 8,
   "metadata": {},
   "outputs": [
    {
     "name": "stdout",
     "output_type": "stream",
     "text": [
      " * sqlite:///Social-Network.db\n",
      "Done.\n"
     ]
    },
    {
     "data": {
      "text/html": [
       "<table>\n",
       "    <thead>\n",
       "        <tr>\n",
       "            <th>name</th>\n",
       "            <th>grade</th>\n",
       "            <th>name1</th>\n",
       "            <th>grade1</th>\n",
       "            <th>name2</th>\n",
       "            <th>grade2</th>\n",
       "        </tr>\n",
       "    </thead>\n",
       "    <tbody>\n",
       "        <tr>\n",
       "            <td>Andrew</td>\n",
       "            <td>10</td>\n",
       "            <td>Cassandra</td>\n",
       "            <td>9</td>\n",
       "            <td>Gabriel</td>\n",
       "            <td>9</td>\n",
       "        </tr>\n",
       "        <tr>\n",
       "            <td>Austin</td>\n",
       "            <td>11</td>\n",
       "            <td>Jordan</td>\n",
       "            <td>12</td>\n",
       "            <td>Andrew</td>\n",
       "            <td>10</td>\n",
       "        </tr>\n",
       "        <tr>\n",
       "            <td>Austin</td>\n",
       "            <td>11</td>\n",
       "            <td>Jordan</td>\n",
       "            <td>12</td>\n",
       "            <td>Kyle</td>\n",
       "            <td>12</td>\n",
       "        </tr>\n",
       "    </tbody>\n",
       "</table>"
      ],
      "text/plain": [
       "[('Andrew', 10, 'Cassandra', 9, 'Gabriel', 9),\n",
       " ('Austin', 11, 'Jordan', 12, 'Andrew', 10),\n",
       " ('Austin', 11, 'Jordan', 12, 'Kyle', 12)]"
      ]
     },
     "execution_count": 8,
     "metadata": {},
     "output_type": "execute_result"
    }
   ],
   "source": [
    "%%sql\n",
    "WITH\n",
    "HighschoolerCopy1 AS (\n",
    "SELECT *\n",
    "FROM Highschooler\n",
    "),\n",
    "HighschoolerCopy2 AS (\n",
    "SELECT *\n",
    "FROM Highschooler\n",
    "),\n",
    "HighschoolerCopy3 AS (\n",
    "SELECT *\n",
    "FROM Highschooler\n",
    "),\n",
    "FriendCopy1 AS (\n",
    "SELECT *\n",
    "FROM Friend\n",
    "),\n",
    "FriendCopy2 AS (\n",
    "SELECT *\n",
    "FROM Friend\n",
    ")\n",
    "\n",
    "SELECT DISTINCT HighschoolerCopy1.name, HighschoolerCopy1.grade,\n",
    "HighschoolerCopy2.name AS name1, HighschoolerCopy2.grade AS grade1,\n",
    "HighschoolerCopy3.name AS name2, HighschoolerCopy3.grade AS grade2\n",
    "FROM HighschoolerCopy1, HighschoolerCopy2, HighschoolerCopy3,\n",
    "Likes, FriendCopy1, FriendCopy2\n",
    "WHERE HighschoolerCopy2.ID NOT IN (\n",
    "    SELECT Friend.ID2\n",
    "    FROM Friend\n",
    "    WHERE Friend.ID1 = HighschoolerCopy1.ID\n",
    ")\n",
    "AND (HighschoolerCopy1.ID = Likes.ID1 AND HighschoolerCopy2.ID = Likes.ID2)\n",
    "AND (HighschoolerCopy1.ID = FriendCopy1.ID1 AND HighschoolerCopy3.ID = FriendCopy1.ID2)\n",
    "AND (HighschoolerCopy2.ID = FriendCopy2.ID1 AND HighschoolerCopy3.ID = FriendCopy2.ID2);"
   ]
  },
  {
   "cell_type": "markdown",
   "metadata": {},
   "source": [
    "Social-Network Query Exercises, Q8:\n",
    "\n",
    "Find the difference between the number of students in the school and the number of different first names."
   ]
  },
  {
   "cell_type": "code",
   "execution_count": 9,
   "metadata": {},
   "outputs": [
    {
     "name": "stdout",
     "output_type": "stream",
     "text": [
      " * sqlite:///Social-Network.db\n",
      "Done.\n"
     ]
    },
    {
     "data": {
      "text/html": [
       "<table>\n",
       "    <thead>\n",
       "        <tr>\n",
       "            <th>COUNT(Highschooler.ID) - COUNT(DISTINCT(Highschooler.name))</th>\n",
       "        </tr>\n",
       "    </thead>\n",
       "    <tbody>\n",
       "        <tr>\n",
       "            <td>2</td>\n",
       "        </tr>\n",
       "    </tbody>\n",
       "</table>"
      ],
      "text/plain": [
       "[(2,)]"
      ]
     },
     "execution_count": 9,
     "metadata": {},
     "output_type": "execute_result"
    }
   ],
   "source": [
    "%%sql\n",
    "SELECT COUNT(Highschooler.ID) - COUNT(DISTINCT(Highschooler.name))\n",
    "FROM Highschooler;"
   ]
  },
  {
   "cell_type": "markdown",
   "metadata": {},
   "source": [
    "Social-Network Query Exercises, Q9:\n",
    "\n",
    "Find the name and grade of all students who are liked by more than one other student."
   ]
  },
  {
   "cell_type": "code",
   "execution_count": 10,
   "metadata": {},
   "outputs": [
    {
     "name": "stdout",
     "output_type": "stream",
     "text": [
      " * sqlite:///Social-Network.db\n",
      "Done.\n"
     ]
    },
    {
     "data": {
      "text/html": [
       "<table>\n",
       "    <thead>\n",
       "        <tr>\n",
       "            <th>name</th>\n",
       "            <th>grade</th>\n",
       "        </tr>\n",
       "    </thead>\n",
       "    <tbody>\n",
       "        <tr>\n",
       "            <td>Cassandra</td>\n",
       "            <td>9</td>\n",
       "        </tr>\n",
       "        <tr>\n",
       "            <td>Kris</td>\n",
       "            <td>10</td>\n",
       "        </tr>\n",
       "    </tbody>\n",
       "</table>"
      ],
      "text/plain": [
       "[('Cassandra', 9), ('Kris', 10)]"
      ]
     },
     "execution_count": 10,
     "metadata": {},
     "output_type": "execute_result"
    }
   ],
   "source": [
    "%%sql\n",
    "SELECT Highschooler.name, Highschooler.grade\n",
    "FROM Highschooler\n",
    "WHERE Highschooler.ID IN (\n",
    "    SELECT Likes.ID2\n",
    "    FROM Likes\n",
    "    GROUP BY Likes.ID2\n",
    "    HAVING count() >= 2\n",
    ");"
   ]
  },
  {
   "cell_type": "markdown",
   "metadata": {},
   "source": [
    "Social-Network Query Exercises Extras, Q1:\n",
    "\n",
    "For every situation where student A likes student B, but student B likes a different student C, return the names and grades of\n",
    "A, B, and C."
   ]
  },
  {
   "cell_type": "code",
   "execution_count": 11,
   "metadata": {},
   "outputs": [
    {
     "name": "stdout",
     "output_type": "stream",
     "text": [
      " * sqlite:///Social-Network.db\n",
      "Done.\n"
     ]
    },
    {
     "data": {
      "text/html": [
       "<table>\n",
       "    <thead>\n",
       "        <tr>\n",
       "            <th>name</th>\n",
       "            <th>grade</th>\n",
       "            <th>name_1</th>\n",
       "            <th>grade_1</th>\n",
       "            <th>name_2</th>\n",
       "            <th>grade_2</th>\n",
       "        </tr>\n",
       "    </thead>\n",
       "    <tbody>\n",
       "        <tr>\n",
       "            <td>Andrew</td>\n",
       "            <td>10</td>\n",
       "            <td>Cassandra</td>\n",
       "            <td>9</td>\n",
       "            <td>Gabriel</td>\n",
       "            <td>9</td>\n",
       "        </tr>\n",
       "        <tr>\n",
       "            <td>Gabriel</td>\n",
       "            <td>11</td>\n",
       "            <td>Alexis</td>\n",
       "            <td>11</td>\n",
       "            <td>Kris</td>\n",
       "            <td>10</td>\n",
       "        </tr>\n",
       "    </tbody>\n",
       "</table>"
      ],
      "text/plain": [
       "[('Andrew', 10, 'Cassandra', 9, 'Gabriel', 9),\n",
       " ('Gabriel', 11, 'Alexis', 11, 'Kris', 10)]"
      ]
     },
     "execution_count": 11,
     "metadata": {},
     "output_type": "execute_result"
    }
   ],
   "source": [
    "%%sql\n",
    "WITH\n",
    "LikesCopy1 AS (\n",
    "SELECT *\n",
    "FROM Likes\n",
    "),\n",
    "LikesCopy2 AS (\n",
    "SELECT *\n",
    "FROM Likes\n",
    "),\n",
    "HighschoolerCopy1 AS (\n",
    "SELECT *\n",
    "FROM Highschooler\n",
    "),\n",
    "HighschoolerCopy2 AS (\n",
    "SELECT *\n",
    "FROM Highschooler\n",
    "),\n",
    "HighschoolerCopy3 AS (\n",
    "SELECT *\n",
    "FROM Highschooler\n",
    ")\n",
    "\n",
    "SELECT HighschoolerCopy1.name, HighschoolerCopy1.grade,\n",
    "HighschoolerCopy2.name, HighschoolerCopy2. grade,\n",
    "HighschoolerCopy3.name, HighschoolerCopy3.grade\n",
    "FROM HighschoolerCopy1, HighschoolerCopy2, HighschoolerCopy3, LikesCopy1, LikesCopy2\n",
    "WHERE \n",
    "HighschoolerCopy1.ID = LikesCopy1.ID1\n",
    "AND HighschoolerCopy2.ID = LikesCopy1.ID2\n",
    "AND HighschoolerCopy3.ID = LikesCopy2.ID2\n",
    "\n",
    "AND HighschoolerCopy2.ID = LikesCopy2.ID1\n",
    "AND HighschoolerCopy1.ID != HighschoolerCopy3.ID;"
   ]
  },
  {
   "cell_type": "markdown",
   "metadata": {},
   "source": [
    "Social-Network Query Exercises Extras, Q2:\n",
    "\n",
    "Find those students for whom all of their friends are in different grades from themselves. Return the students' names and\n",
    "grades."
   ]
  },
  {
   "cell_type": "code",
   "execution_count": 12,
   "metadata": {},
   "outputs": [
    {
     "name": "stdout",
     "output_type": "stream",
     "text": [
      " * sqlite:///Social-Network.db\n",
      "Done.\n"
     ]
    },
    {
     "data": {
      "text/html": [
       "<table>\n",
       "    <thead>\n",
       "        <tr>\n",
       "            <th>name</th>\n",
       "            <th>grade</th>\n",
       "        </tr>\n",
       "    </thead>\n",
       "    <tbody>\n",
       "        <tr>\n",
       "            <td>Austin</td>\n",
       "            <td>11</td>\n",
       "        </tr>\n",
       "    </tbody>\n",
       "</table>"
      ],
      "text/plain": [
       "[('Austin', 11)]"
      ]
     },
     "execution_count": 12,
     "metadata": {},
     "output_type": "execute_result"
    }
   ],
   "source": [
    "%%sql\n",
    "SELECT Highschooler1.name, Highschooler1.grade\n",
    "FROM Highschooler AS Highschooler1\n",
    "WHERE Highschooler1.ID NOT IN (\n",
    "    SELECT Friend.ID1\n",
    "    FROM Highschooler AS Highschooler2, Friend\n",
    "    WHERE Friend.ID1 = Highschooler1.ID\n",
    "        AND Friend.ID2 = Highschooler2.ID\n",
    "        AND Highschooler1.grade = Highschooler2.grade\n",
    ");"
   ]
  },
  {
   "cell_type": "markdown",
   "metadata": {},
   "source": [
    "Social-Network Query Exercises Extras, Q3:\n",
    "\n",
    "What is the average number of friends per student? (Your result should be just one number.)"
   ]
  },
  {
   "cell_type": "code",
   "execution_count": 13,
   "metadata": {
    "scrolled": true
   },
   "outputs": [
    {
     "name": "stdout",
     "output_type": "stream",
     "text": [
      " * sqlite:///Social-Network.db\n",
      "Done.\n"
     ]
    },
    {
     "data": {
      "text/html": [
       "<table>\n",
       "    <thead>\n",
       "        <tr>\n",
       "            <th>AVG(friendMap.count)</th>\n",
       "        </tr>\n",
       "    </thead>\n",
       "    <tbody>\n",
       "        <tr>\n",
       "            <td>2.5</td>\n",
       "        </tr>\n",
       "    </tbody>\n",
       "</table>"
      ],
      "text/plain": [
       "[(2.5,)]"
      ]
     },
     "execution_count": 13,
     "metadata": {},
     "output_type": "execute_result"
    }
   ],
   "source": [
    "%%sql\n",
    "WITH friendMap AS (\n",
    "SELECT Friend.ID1, count() AS count\n",
    "FROM Friend\n",
    "GROUP BY Friend.ID1\n",
    ")\n",
    "\n",
    "SELECT AVG(friendMap.count)\n",
    "FROM friendMap;"
   ]
  },
  {
   "cell_type": "markdown",
   "metadata": {},
   "source": [
    "Social-Network Query Exercises Extras, Q4:\n",
    "\n",
    "Find the number of students who are either friends with Cassandra or are friends of friends of Cassandra. Do not count\n",
    "Cassandra, even though technically she is a friend of a friend."
   ]
  },
  {
   "cell_type": "code",
   "execution_count": 14,
   "metadata": {},
   "outputs": [
    {
     "name": "stdout",
     "output_type": "stream",
     "text": [
      " * sqlite:///Social-Network.db\n",
      "Done.\n"
     ]
    },
    {
     "data": {
      "text/html": [
       "<table>\n",
       "    <thead>\n",
       "        <tr>\n",
       "            <th>count(*)</th>\n",
       "        </tr>\n",
       "    </thead>\n",
       "    <tbody>\n",
       "        <tr>\n",
       "            <td>7</td>\n",
       "        </tr>\n",
       "    </tbody>\n",
       "</table>"
      ],
      "text/plain": [
       "[(7,)]"
      ]
     },
     "execution_count": 14,
     "metadata": {},
     "output_type": "execute_result"
    }
   ],
   "source": [
    "%%sql\n",
    "WITH cassandraFriends AS (\n",
    "SELECT Friend.ID2 AS ID\n",
    "FROM Friend, Highschooler\n",
    "WHERE Friend.ID1 = Highschooler.ID\n",
    "    AND Highschooler.name = 'Cassandra'\n",
    ")\n",
    "\n",
    "SELECT count(*)\n",
    "FROM Friend, cassandraFriends\n",
    "WHERE Friend.ID1 IN (cassandraFriends.ID);"
   ]
  },
  {
   "cell_type": "markdown",
   "metadata": {},
   "source": [
    "Social-Network Query Exercises Extras, Q5:\n",
    "\n",
    "Find the name and grade of the student(s) with the greatest number of friends."
   ]
  },
  {
   "cell_type": "code",
   "execution_count": 15,
   "metadata": {},
   "outputs": [
    {
     "name": "stdout",
     "output_type": "stream",
     "text": [
      " * sqlite:///Social-Network.db\n",
      "Done.\n"
     ]
    },
    {
     "data": {
      "text/html": [
       "<table>\n",
       "    <thead>\n",
       "        <tr>\n",
       "            <th>name</th>\n",
       "            <th>grade</th>\n",
       "        </tr>\n",
       "    </thead>\n",
       "    <tbody>\n",
       "        <tr>\n",
       "            <td>Andrew</td>\n",
       "            <td>10</td>\n",
       "        </tr>\n",
       "        <tr>\n",
       "            <td>Alexis</td>\n",
       "            <td>11</td>\n",
       "        </tr>\n",
       "    </tbody>\n",
       "</table>"
      ],
      "text/plain": [
       "[('Andrew', 10), ('Alexis', 11)]"
      ]
     },
     "execution_count": 15,
     "metadata": {},
     "output_type": "execute_result"
    }
   ],
   "source": [
    "%%sql\n",
    "WITH friendMap AS (\n",
    "SELECT Friend.ID1, count() AS count\n",
    "FROM Friend\n",
    "GROUP BY Friend.ID1\n",
    ")\n",
    "\n",
    "SELECT Highschooler.name, Highschooler.grade\n",
    "FROM friendMap, Highschooler\n",
    "WHERE friendMap.ID1 = Highschooler.ID\n",
    "AND friendMap.count = (\n",
    "    SELECT MAX(friendMap.count)\n",
    "    FROM friendMap\n",
    ");"
   ]
  },
  {
   "cell_type": "markdown",
   "metadata": {
    "collapsed": true
   },
   "source": [
    "Social-Network Modification Exercises, Q1:\n",
    "\n",
    "It's time for the seniors to graduate. Remove all 12th graders from Highschooler."
   ]
  },
  {
   "cell_type": "code",
   "execution_count": 16,
   "metadata": {},
   "outputs": [
    {
     "name": "stdout",
     "output_type": "stream",
     "text": [
      " * sqlite:///Social-Network.db\n",
      "4 rows affected.\n"
     ]
    },
    {
     "data": {
      "text/plain": [
       "[]"
      ]
     },
     "execution_count": 16,
     "metadata": {},
     "output_type": "execute_result"
    }
   ],
   "source": [
    "%%sql\n",
    "DELETE\n",
    "FROM Highschooler\n",
    "WHERE Highschooler.grade = 12;"
   ]
  },
  {
   "cell_type": "markdown",
   "metadata": {
    "collapsed": true
   },
   "source": [
    "Social-Network Modification Exercises, Q2:\n",
    "\n",
    "If two students A and B are friends, and A likes B but not vice-versa, remove the Likes tuple."
   ]
  },
  {
   "cell_type": "code",
   "execution_count": 17,
   "metadata": {},
   "outputs": [
    {
     "name": "stdout",
     "output_type": "stream",
     "text": [
      " * sqlite:///Social-Network.db\n",
      "2 rows affected.\n"
     ]
    },
    {
     "data": {
      "text/plain": [
       "[]"
      ]
     },
     "execution_count": 17,
     "metadata": {},
     "output_type": "execute_result"
    }
   ],
   "source": [
    "%%sql\n",
    "DELETE\n",
    "FROM Likes\n",
    "WHERE (Likes.ID1, Likes.ID2) IN (\n",
    "    SELECT Likes.ID1, Likes.ID2\n",
    "    FROM Likes\n",
    ")\n",
    "AND (Likes.ID2, Likes.ID1) NOT IN (\n",
    "    SELECT Likes.ID1, Likes.ID2\n",
    "    FROM Likes\n",
    ")\n",
    "AND (Likes.ID1, Likes.ID2) IN (\n",
    "    SELECT Friend.ID1, Friend.ID2\n",
    "    FROM Friend\n",
    ");"
   ]
  },
  {
   "cell_type": "markdown",
   "metadata": {
    "collapsed": true
   },
   "source": [
    "Social-Network Modification Exercises, Q3:\n",
    "\n",
    "For all cases where A is friends with B, and B is friends with C, add a new friendship for the pair A and C. Do not add duplicate friendships, friendships that already exist, or friendships with oneself. _(This one is a bit challenging; congratulations if you get it right.)_"
   ]
  },
  {
   "cell_type": "code",
   "execution_count": 18,
   "metadata": {},
   "outputs": [
    {
     "name": "stdout",
     "output_type": "stream",
     "text": [
      " * sqlite:///Social-Network.db\n",
      "Done.\n"
     ]
    },
    {
     "data": {
      "text/plain": [
       "[]"
      ]
     },
     "execution_count": 18,
     "metadata": {},
     "output_type": "execute_result"
    }
   ],
   "source": [
    "%%sql\n",
    "WITH\n",
    "FriendCopy1 AS (\n",
    "SELECT *\n",
    "FROM Friend\n",
    "),\n",
    "FriendCopy2 AS (\n",
    "SELECT *\n",
    "FROM Friend\n",
    "),\n",
    "FriendCopy3 AS (\n",
    "SELECT *\n",
    "FROM Friend\n",
    ")\n",
    "\n",
    "INSERT\n",
    "INTO Friend(ID1, ID2)\n",
    "SELECT DISTINCT FriendCopy1.ID1, FriendCopy2.ID2\n",
    "FROM FriendCopy1, FriendCopy2\n",
    "WHERE FriendCopy1.ID2 = FriendCopy2.ID1\n",
    "    AND FriendCopy1.ID1 != FriendCopy2.ID2\n",
    "    AND (FriendCopy1.ID1, FriendCopy2.ID2) NOT IN FriendCopy3;"
   ]
  }
 ],
 "metadata": {
  "kernelspec": {
   "display_name": "Python 3",
   "language": "python",
   "name": "python3"
  },
  "language_info": {
   "codemirror_mode": {
    "name": "ipython",
    "version": 3
   },
   "file_extension": ".py",
   "mimetype": "text/x-python",
   "name": "python",
   "nbconvert_exporter": "python",
   "pygments_lexer": "ipython3",
   "version": "3.8.3"
  }
 },
 "nbformat": 4,
 "nbformat_minor": 2
}
